{
 "cells": [
  {
   "cell_type": "code",
   "execution_count": 274,
   "metadata": {
    "collapsed": true
   },
   "outputs": [],
   "source": [
    "## HELPER FUNCTIONS AND MODULES\n",
    "import numpy as np\n",
    "import scipy.linalg as la\n",
    "from matplotlib import pyplot as plt\n",
    "%matplotlib inline\n",
    "\n",
    "def sigmoid( z ):\n",
    "    \"\"\" This shrinks our beta estimate into logistic form \"\"\"\n",
    "    return 1 / ( 1 + np.exp( -z ) )\n",
    "\n",
    "def cost_ll( X, y, betas ):\n",
    "    \"\"\" \"\"\"\n",
    "    # this is the current estimate\n",
    "    p = sigmoid( np.dot( betas, X.T ) )\n",
    "    # this measures the difference between the guess and the actual\n",
    "    return -np.sum( y*np.log( p+1e-8 ) + (1-y)*np.log( 1 - p+1e-8  ) ) \n",
    "\n",
    "def gradient( X, y, betas ):\n",
    "    \"\"\" This calculates the gradient given X, y and our betas \"\"\"\n",
    "    # when stochastic gradient descent is computed over a \n",
    "    # vector of X and a vector of betas with the y response\n",
    "    #  - need a part to check for a vector\n",
    "    return np.dot( ( y - sigmoid( np.dot( X, betas ) ) ), X )\n",
    "\n",
    "def approx_hes( X, y, betas ):\n",
    "    \"\"\"\n",
    "    Newtons method creates a weight matrix based on the 2nd derivative of each beta \n",
    "    \"\"\"\n",
    "    # needed to initialize a matrix approximating the hessian\n",
    "    N, P = X.shape\n",
    "\n",
    "    # logistic estimate\n",
    "    z    = sigmoid( np.dot( X, betas ) ) \n",
    "\n",
    "    # function as weight or coefficents on X\n",
    "    W    = np.multiply( z, ( 1.0-z ) ) \n",
    "\n",
    "    # coefficients for our approximate hessian \n",
    "    ap_H = np.zeros( (P, P) )\n",
    "\n",
    "    # cycles through each observation (N) adding the outer product of the X values\n",
    "    # and multiply that by the W vector used in the regular hessian calculations. \n",
    "    for obv in np.arange( N ):\n",
    "        ap_H += np.multiply( W[obv], np.outer( X[obv], X[obv] ) )\n",
    "    return ap_H\n",
    "\n",
    "def cost_ll( X, y, betas ):\n",
    "    \"\"\" \"\"\"\n",
    "    # this is the current estimate\n",
    "    p = sigmoid( np.dot( betas, X.T ) )\n",
    "    # this measures the difference between the guess and the actual\n",
    "    return -np.sum( y*np.log( p+1e-8 ) + (1-y)*np.log( 1 - p+1e-8 ) ) \n"
   ]
  },
  {
   "cell_type": "markdown",
   "metadata": {},
   "source": [
    "# Line Search\n",
    "\n",
    "### Choosing the best line length\n",
    "\n",
    "- We can instead decide how large of a step we take during stochastic gradient descent.\n",
    "\n",
    "- Below is a line search that uses the wolfe conditionts to compute an alpha.\n",
    "\n",
    "- In order to do this we need a few functions. See Nocedal & Wright for details (expand to specific areas to reference) - much of the notation used in the code follows notation used in Nocedal & Wright.\n"
   ]
  },
  {
   "cell_type": "code",
   "execution_count": 260,
   "metadata": {},
   "outputs": [],
   "source": [
    "def ls( betas, p, f, gf, c=1e-8, iterations=100, s=0.75):\n",
    "    '''\n",
    "     This function uses the wolf conditions to compute the \"optimal\" stepsize for \n",
    "     the next step in a descent method.\n",
    "\n",
    "    '''\n",
    "    N, P = X.shape\n",
    "    \n",
    "    # the loss function\n",
    "    fx = f( betas )\n",
    "    \n",
    "    # the gradient function multipled by the direction vector\n",
    "    gfp = gf( betas ).dot( p )\n",
    "    \n",
    "    # initialized alpha\n",
    "    a = 1.\n",
    "    \n",
    "    # because it's not working...\n",
    "#     print( \"p =\", p )\n",
    "#     print( \"fx =\", fx )\n",
    "#     print( \"gfp =\", gfp ) \n",
    "    \n",
    "    # a boolean for knowing if we've found one - we haven't yet. \n",
    "    eee = False\n",
    "    \n",
    "    # what's the best length given p one? \n",
    "    for iters in np.arange( iterations ):\n",
    "        \n",
    "        # calculate the potential\n",
    "        fxap = f( betas + a * p )\n",
    "#         print( \"a =\", a )\n",
    "#         print( \"fxap =\", fxap )\n",
    "#         print( \"fx + c * a * gfp =\", fx + c * a * gfp )\n",
    "\n",
    "        # if the potential leads to smaller cost, then go for it. \n",
    "        if fxap <= fx + c * a * gfp:\n",
    "            eee = True\n",
    "            return eee, a\n",
    "        \n",
    "        # if not, then scale alpha down (by s) and retry!\n",
    "        else:\n",
    "            a*=s\n",
    "    \n",
    "    print(\"seems like there is no better alpha...\")        \n",
    "    return eee, a"
   ]
  },
  {
   "cell_type": "code",
   "execution_count": 273,
   "metadata": {},
   "outputs": [],
   "source": [
    "def logit_gd( X, y, iterations=1000, alpha=0.01, tol=1e-8):\n",
    "    \"\"\" This function performs 'simple' gradient descent.\n",
    "        - X is the data matrix - X is scaled before performing descent\n",
    "        - y are the actual values \n",
    "        - beta vector is initialized at a vector of zeros \n",
    "        - alpha or the learning rate is by default 0.00001 \"\"\"\n",
    " \n",
    "    # initialize betas vector\n",
    "    betas = np.zeros( X.shape[1] )\n",
    "    \n",
    "    # initialize empty convergence vector and empty convergence difference vector\n",
    "    cvg = []\n",
    "    betas_hist = []\n",
    "    steps = []\n",
    "    for iters in np.arange( iterations ):\n",
    "        \n",
    "        # get initial cost\n",
    "        if iters == 0:\n",
    "            cvg.append( cost_ll( X, y, betas ) )\n",
    "            betas_hist.append( betas )\n",
    "            \n",
    "        # ammend to adjust alpha based on iteration step\n",
    "        betas += alpha * gradient( X, y, betas )\n",
    "        betas_hist.append( betas )\n",
    "        \n",
    "        # save log likelihood output for plotting\n",
    "        cvg.append( cost_ll( X, y, betas ) )\n",
    "        steps.append( alpha )\n",
    "        \n",
    "        # check for convergence \n",
    "        if np.abs( cvg[-1] - cvg[-2] ) > tol:\n",
    "            pass            \n",
    "        else:\n",
    "            # we made it! how many iterations?\n",
    "            print(\"iterations to converge, %d \"%iters )\n",
    "            return betas, betas_hist, cvg, steps\n",
    "        \n",
    "    print(\"Did not converge, lower tolerance?\")\n",
    "    return betas, betas_hist, cvg, steps"
   ]
  },
  {
   "cell_type": "code",
   "execution_count": 240,
   "metadata": {},
   "outputs": [],
   "source": []
  },
  {
   "cell_type": "code",
   "execution_count": 295,
   "metadata": {
    "collapsed": true
   },
   "outputs": [],
   "source": [
    "def lsgd( X, y, tol=1e-4, iterations=1000, c_up=0.5, s_up=0.75 ):\n",
    "    '''\n",
    "    This function performs a line search gradient descent method to find the beta\n",
    "    that minimizes the negative log likelihood function.\n",
    "    \n",
    "    Inputs:\n",
    "    X: an m by n array of features\n",
    "    y: an m vector of successes\n",
    "    beta: an initial guess for the minimizer (for which we are solving)\n",
    "    m: an m vector of the number of trials\n",
    "    tol: a float, optional to specify the error size used to indicate convergence\n",
    "    iters; an integer, optional to specify the max number of iterations for the\n",
    "         algorithm\n",
    "    cval: A float, option to specify the constant value used to determine stepsize\n",
    "        in linesearch\n",
    "    print_total: A boolean to determine whether the number of iterations it takes \n",
    "        to converge should be printed or not.\n",
    "         \n",
    "    Returns:\n",
    "    beta0: the minimizer of the negative log-likelihood\n",
    "    betas: a list of the new beta for each time step\n",
    "    ll: a list of the log likelihoods for each time step\n",
    "    '''\n",
    "    N, P = X.shape\n",
    "    \n",
    "    # initialize betas vector\n",
    "    betas0 = np.zeros( P )\n",
    "    \n",
    "    def f(betas):\n",
    "        # formats function for ls function\n",
    "        return cost_ll(X, y, betas )\n",
    "    \n",
    "    def gf(betas):\n",
    "        # formats function for ls function\n",
    "        return gradient(X, y, betas )\n",
    "    \n",
    "    # keep track of some things.\n",
    "    cvg = [] \n",
    "    steps = []\n",
    "    betas_hist = []\n",
    "    for iters in np.arange( iterations ):\n",
    "        # before\n",
    "        cost_ll_betas0 = cost_ll( X, y, betas0 )\n",
    "        cvg.append( cost_ll_betas0 )\n",
    "        betas_hist.append(betas0)\n",
    "\n",
    "        # first get the descent direction\n",
    "        p  = -gradient( X, y, betas0 ) \n",
    "        eee, alpha = ls( betas0, p, f, gf, c=c_up, iterations=1000, s=s_up )\n",
    "        \n",
    "        # collect the step sizes\n",
    "        if eee is not True:\n",
    "            steps.append( alpha )\n",
    "            print( \"stepsize no bueno, no lines\" )\n",
    "            return betas, betas_hist, cvg, steps\n",
    "        \n",
    "        # if we found a good line then lets use it! (save alpha)\n",
    "        steps.append( alpha )\n",
    "        betas1 = betas0 + alpha * p\n",
    "        \n",
    "        # after\n",
    "        cost_ll_betas1 = cost_ll( X, y, betas1 )\n",
    "        cvg.append( cost_ll_betas0 )\n",
    "        \n",
    "        # checks for convergence\n",
    "        if np.abs( cost_ll_betas1 - cost_ll_betas0 ) > tol:\n",
    "            beta0 = beta1\n",
    "        else:\n",
    "            # we made it! how many iterations?\n",
    "            print(\"iterations to converge, %d \"%iters )\n",
    "            return betas1, betas_hist, cvg, steps\n",
    "        \n",
    "    return betas1, betas_hist, cvg, steps"
   ]
  },
  {
   "cell_type": "code",
   "execution_count": 246,
   "metadata": {},
   "outputs": [],
   "source": [
    "# TEST IT OUT ON SOME RANDOM DATA!\n",
    "N = 400\n",
    "P = 8\n",
    "\n",
    "# Pre-process, add intercept\n",
    "X = np.hstack( (np.ones( (N,1) ), np.random.rand( N, P) ) )\n",
    "y = (np.random.rand( N ) > .5).astype(float)\n",
    "\n",
    "print( X.shape )"
   ]
  },
  {
   "cell_type": "code",
   "execution_count": 296,
   "metadata": {},
   "outputs": [
    {
     "name": "stdout",
     "output_type": "stream",
     "text": [
      "iterations to converge, 0 \n",
      "iterations to converge, 290 \n"
     ]
    }
   ],
   "source": [
    "# lgsd code not working\n",
    "\n",
    "betas, betas_hist, cvg, steps     = lsgd( X, y, tol=1e-8, iterations=1000, c_up=.5, s_up=.75 )\n",
    "betas1, betas_hist1, cvg1, steps1 = logit_gd( X, y, iterations=50000, alpha=0.001, tol=1e-3)\n"
   ]
  },
  {
   "cell_type": "code",
   "execution_count": 297,
   "metadata": {},
   "outputs": [
    {
     "name": "stdout",
     "output_type": "stream",
     "text": [
      "14.212670403551897\n",
      "14.490204362369457\n",
      "0.9572060029314421\n"
     ]
    }
   ],
   "source": [
    "# comparing the difference in estimates between the two...\n",
    "y1 = X.dot( betas.T )\n",
    "y2 = X.dot( betas1.T )\n",
    "print( la.norm(y1 - y) )\n",
    "print( la.norm(y2 - y) )\n",
    "print( la.norm(betas - betas1) )\n"
   ]
  },
  {
   "cell_type": "code",
   "execution_count": 299,
   "metadata": {},
   "outputs": [
    {
     "data": {
      "text/plain": [
       "<matplotlib.text.Text at 0x11ca31d30>"
      ]
     },
     "execution_count": 299,
     "metadata": {},
     "output_type": "execute_result"
    },
    {
     "data": {
      "image/png": "[encoded data removed]",
      "text/plain": [
       "<matplotlib.figure.Figure at 0x11cdb4a90>"
      ]
     },
     "metadata": {},
     "output_type": "display_data"
    }
   ],
   "source": [
    "# plot the convergence paths\n",
    "plt.plot(cvg, label=\"Line Search, wolfe-conditions\")\n",
    "plt.plot(cvg1, label=\"alpha=0.0001\")\n",
    "plt.legend(loc=\"best\")\n",
    "plt.xlabel('Iterations')\n",
    "plt.ylabel('Cost')\n"
   ]
  },
  {
   "cell_type": "markdown",
   "metadata": {},
   "source": [
    "### Something is not happening correctly in my line search algorithm...\n",
    "\n",
    "The line search algorithm "
   ]
  },
  {
   "cell_type": "code",
   "execution_count": 300,
   "metadata": {
    "collapsed": true
   },
   "outputs": [],
   "source": [
    "# Comparing convergence for various values of C\n",
    "# strightforward if line search alogrithm is working...\n",
    "\n",
    "\n"
   ]
  },
  {
   "cell_type": "markdown",
   "metadata": {},
   "source": [
    "### Quasi Newton Methods"
   ]
  }
 ],
 "metadata": {
  "kernelspec": {
   "display_name": "Python 3",
   "language": "python",
   "name": "python3"
  },
  "language_info": {
   "codemirror_mode": {
    "name": "ipython",
    "version": 3
   },
   "file_extension": ".py",
   "mimetype": "text/x-python",
   "name": "python",
   "nbconvert_exporter": "python",
   "pygments_lexer": "ipython3",
   "version": "3.6.1"
  }
 },
 "nbformat": 4,
 "nbformat_minor": 2
}
