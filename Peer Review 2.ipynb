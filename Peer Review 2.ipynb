{
 "cells": [
  {
   "cell_type": "markdown",
   "metadata": {},
   "source": [
    "### Peer Review for Aaron Webb\n",
    "\n",
    "\n",
    "General comments about the code\n",
    "- I like the modularity of it. Functions were defined to solve specific problems. This usually culminated in a main function that brings the different parts together.\n",
    "\n",
    "- The code was also often concise and to the point, space and words weren’t wasted on too many unnecessary lines of code.\n",
    "- Sometimes, this concision in the code made it trickier to figure out what exactly was happening.  \n",
    "\n",
    "- There were a few spots in exercise 3 and 5 that could have maybe benefited from unpacking a line of code with a number operations in it for purposes of clarity.\n",
    "\n",
    "- Another thing that may benefit the code is to add more in the way of descriptions of functions. Giving a brief description of the function, describing the expected input, and describing expected output, are good programming practices. I myself am not great at doing this. It can be difficult to find the extra time to describe what it happening, especially given how busy we often are but it can go a long way to making code useable for others and to your future self if some descriptions are their to more quickly aid understanding about what exactly is going on. This is something I need to also start doing more of myself!\n",
    "\n",
    "- If I can make one more note on this. Descriptions and unpacking complex code into more lines to make it more readable can do wonders for debugging. This may not be an issue for this more toy exercises we do in class but establishing this as a practice here can go a long way to help debug code in the future, by just making this easier to understand. Again, I really need to be doing more of this as well.\n"
   ]
  },
  {
   "cell_type": "markdown",
   "metadata": {},
   "source": [
    "Specific comments about exercises\n",
    "- Exercise 3\n",
    "  - I struggled with getting my line search method to work so it was nice taking a look at Aaron’s method at solving this problem. It wasn’t immediately apparent as to how Aaron’s code solved it differently than mine. However, it did seem that the stepwise was pre-computed before the descent direction i.e. as an input vector into the gradient descent algorithm. In my code I had been computing at step of the descent process. While this aspect differs from mine, I don’t think it will affect where my code is breaking down. \n",
    "\n",
    "  - Another aspect that differs is the step size is calculated for each beta individually. This is not something I implemented in my code. Besides that the only difference I could gather came from computing the directional derivative. This didn’t seem to be explicitly done in the code (or I’ve missed it). \n",
    "\n",
    "- Exercise 5\n",
    "  - Overall, the code looked good and I could make out what was happening in the graphs. More explanation when presenting the graphs would help anchor what exactly was happening (something I am guilty of not having in my own code). \n",
    "\n",
    "  - What I learned that I will certainly use in the future is the no.array_split function. I was performing this using python data structures (lists and dictionaries) but I like the concision that np.array_split brings while accomplishing the same task. \n"
   ]
  },
  {
   "cell_type": "markdown",
   "metadata": {},
   "source": [
    "Overall, it was nice seeing Aaron’s code and get exposure to a style that is somewhat different from my own. Reading his code also reminded me of how much more commenting and description of functions I could in my own code!"
   ]
  }
 ],
 "metadata": {
  "kernelspec": {
   "display_name": "Python 3",
   "language": "python",
   "name": "python3"
  },
  "language_info": {
   "codemirror_mode": {
    "name": "ipython",
    "version": 3
   },
   "file_extension": ".py",
   "mimetype": "text/x-python",
   "name": "python",
   "nbconvert_exporter": "python",
   "pygments_lexer": "ipython3",
   "version": "3.6.1"
  }
 },
 "nbformat": 4,
 "nbformat_minor": 2
}
